{
 "cells": [
  {
   "cell_type": "code",
   "execution_count": 1,
   "metadata": {},
   "outputs": [],
   "source": [
    "import sys\n",
    "sys.path.insert(0, '../src')\n",
    "sys.path.insert(0, 'src') #for running notebook from project root\n",
    "import numpy as np\n",
    "import lds_regression as lr\n",
    "import matplotlib.pyplot as plt\n",
    "from sklearn.metrics import r2_score\n",
    "%matplotlib inline\n",
    "\n",
    "d_latent = lr.transition_mat.shape[0]\n",
    "d_obs = 100\n",
    "n_neurons = 100\n",
    "n_trials = 200\n",
    "sim_bin = .001\n",
    "fit_bin = 0.02\n",
    "\n",
    "s,r,f,W = lr.simulate_system(n_trials, n_neurons, 1, same_traj=True)"
   ]
  },
  {
   "cell_type": "code",
   "execution_count": 2,
   "metadata": {},
   "outputs": [],
   "source": [
    "def get_performance_averaging(smooth_std, fit_bin):\n",
    "    smoothed, b = lr.smooth_spikes(s, sim_bin, fit_bin, smooth_std)\n",
    "    sm_av = [smoothed[:int(n_trials/2)].mean(0)]\n",
    "    A, pca = lr.fit_system(sm_av, d_latent, fit_bin)\n",
    "    test_av = [smoothed[int(n_trials/2):].mean(0)]\n",
    "    p,a = lr.one_step_diff_explained(test_av, A, pca, fit_bin)\n",
    "    r2 = np.corrcoef(np.concatenate(p).flatten(), np.concatenate(a).flatten())[1,0]**2\n",
    "    #r2 = r2_score(np.concatenate(p), np.concatenate(a))\n",
    "    return r2,A,pca"
   ]
  },
  {
   "cell_type": "code",
   "execution_count": 3,
   "metadata": {},
   "outputs": [],
   "source": [
    "#iterative search for best smoothing parameters and fit bin parameters\n",
    "\n",
    "r2 = []\n",
    "smooth_stds = np.arange(0.01, 0.1, 0.01)\n",
    "fit_bins = np.arange(0.01, 0.1, 0.01)\n",
    "for smooth_std in smooth_stds:\n",
    "    smooth_std = np.around(smooth_std, 2)\n",
    "    r2.append(get_performance_averaging(smooth_std, fit_bin)[0])\n",
    "    \n",
    "smooth_std = smooth_stds[np.argmax(r2)]\n",
    "r2 = []\n",
    "fit_bins = np.arange(.01, .1, .01)\n",
    "for fit_bin in fit_bins:\n",
    "    fit_bin = np.around(fit_bin, 2)\n",
    "    r2.append(get_performance_averaging(smooth_std, fit_bin)[0])\n",
    "    \n",
    "fit_bin = fit_bins[np.argmax(r2)]"
   ]
  },
  {
   "cell_type": "code",
   "execution_count": 4,
   "metadata": {},
   "outputs": [
    {
     "name": "stdout",
     "output_type": "stream",
     "text": [
      "One step prediction r^2: 0.945899\n",
      "Fitted transition matrix:\n",
      "[[ -1.65966008  15.39648605]\n",
      " [-12.08371734   0.18765325]]\n",
      "True matrix:\n",
      "[[ -0.625 -20.5  ]\n",
      " [ 12.5    -0.625]]\n",
      "\n",
      "Fitted transition matrix eigenvalues:\n",
      "[-0.73600342+13.60858713j -0.73600342-13.60858713j]\n",
      "True eigenvalues:\n",
      "[-0.625+16.00781059j -0.625-16.00781059j]\n",
      "True and fitted subspace correlation:0.004445\n"
     ]
    }
   ],
   "source": [
    "r2, A, pca = get_performance_averaging(smooth_std, fit_bin)\n",
    "def report_values(r2, A, pca):\n",
    "    print('One step prediction r^2: %f'%r2)\n",
    "    print('Fitted transition matrix:')\n",
    "    print(A)\n",
    "    print('True matrix:')\n",
    "    print(lr.transition_mat)\n",
    "    print('\\nFitted transition matrix eigenvalues:')\n",
    "    print(np.linalg.eigvals(A))\n",
    "    print('True eigenvalues:')\n",
    "    print(np.linalg.eigvals(lr.transition_mat))\n",
    "    subspace_corr = np.corrcoef(W.flatten(), pca.components_.T.flatten())[1,0]\n",
    "    print('True and fitted subspace correlation:%f'%subspace_corr)\n",
    "    \n",
    "report_values(r2, A, pca)"
   ]
  },
  {
   "cell_type": "code",
   "execution_count": 5,
   "metadata": {},
   "outputs": [],
   "source": [
    "def get_performance_single_trial(smooth_std, fit_bin):\n",
    "    s,r,f,W = lr.simulate_system(n_trials, n_neurons, 1)\n",
    "    smoothed, b = lr.smooth_spikes(s, sim_bin, fit_bin, smooth_std)\n",
    "    train = smoothed[:int(n_trials/2)]\n",
    "    A, pca = lr.fit_system(train, d_latent, fit_bin)\n",
    "    test = smoothed[int(n_trials/2):]\n",
    "    p,a = lr.one_step_diff_explained(test, A, pca, fit_bin)\n",
    "    r2 = np.corrcoef(np.concatenate(p).flatten(), np.concatenate(a).flatten())[1,0]**2\n",
    "    #r2 = r2_score(np.concatenate(a), np.concatenate(p))\n",
    "    return r2, A, pca\n",
    "\n",
    "#iterative search for best smoothing parameters and fit bin parameters\n",
    "\n",
    "r2 = []\n",
    "smooth_stds = np.arange(0.01, 0.1, 0.01)\n",
    "fit_bins = np.arange(0.01, 0.1, 0.01)\n",
    "for smooth_std in smooth_stds:\n",
    "    smooth_std = np.around(smooth_std, 2)\n",
    "    r2.append(get_performance_single_trial(smooth_std, fit_bin)[0])\n",
    "    \n",
    "smooth_std = smooth_stds[np.argmax(r2)]\n",
    "r2 = []\n",
    "fit_bins = np.arange(.01, .1, .01)\n",
    "for fit_bin in fit_bins:\n",
    "    fit_bin = np.around(fit_bin, 2)\n",
    "    r2.append(get_performance_single_trial(smooth_std, fit_bin)[0])\n",
    "    \n",
    "fit_bin = fit_bins[np.argmax(r2)]"
   ]
  },
  {
   "cell_type": "code",
   "execution_count": 6,
   "metadata": {},
   "outputs": [
    {
     "name": "stdout",
     "output_type": "stream",
     "text": [
      "One step prediction r^2: 0.262749\n",
      "Fitted transition matrix:\n",
      "[[ -0.82234656 -14.66581002]\n",
      " [ 10.11757767  -0.77253079]]\n",
      "True matrix:\n",
      "[[ -0.625 -20.5  ]\n",
      " [ 12.5    -0.625]]\n",
      "\n",
      "Fitted transition matrix eigenvalues:\n",
      "[-0.79743868+12.18120895j -0.79743868-12.18120895j]\n",
      "True eigenvalues:\n",
      "[-0.625+16.00781059j -0.625-16.00781059j]\n",
      "True and fitted subspace correlation:-0.026149\n"
     ]
    }
   ],
   "source": [
    "r2, A, pca = get_performance_single_trial(smooth_std, fit_bin)\n",
    "report_values(r2, A, pca)"
   ]
  },
  {
   "cell_type": "markdown",
   "metadata": {},
   "source": [
    "# Linear-Gaussian models\n",
    "\n",
    "## pylds implementation"
   ]
  },
  {
   "cell_type": "code",
   "execution_count": 7,
   "metadata": {},
   "outputs": [
    {
     "data": {
      "text/plain": [
       "[<matplotlib.lines.Line2D at 0x7f2a5ecee550>]"
      ]
     },
     "execution_count": 7,
     "metadata": {},
     "output_type": "execute_result"
    },
    {
     "data": {
      "image/png": "[encoded data removed]",
      "text/plain": [
       "<Figure size 432x288 with 1 Axes>"
      ]
     },
     "metadata": {
      "needs_background": "light"
     },
     "output_type": "display_data"
    }
   ],
   "source": [
    "from pylds.models import DefaultLDS\n",
    "\n",
    "model = DefaultLDS(100, d_latent)\n",
    "_, b = lr.smooth_spikes(s, sim_bin, fit_bin, smooth_std)\n",
    "for trial in b: model.add_data(trial)\n",
    "ll = []\n",
    "for i in range(100):\n",
    "    model.resample_model()\n",
    "    ll.append(model.log_likelihood())\n",
    "    #print(\"step %d completed\"%i)\n",
    "\n",
    "for i in range(100):\n",
    "    model.EM_step()\n",
    "    ll.append(model.log_likelihood())\n",
    "    #print(\"step %d completed\"%i)\n",
    "    \n",
    "plt.plot(ll)"
   ]
  },
  {
   "cell_type": "code",
   "execution_count": 8,
   "metadata": {},
   "outputs": [
    {
     "name": "stdout",
     "output_type": "stream",
     "text": [
      "-4967.010361892623\n",
      "[[1.         0.13972431]\n",
      " [0.13972431 1.        ]]\n"
     ]
    }
   ],
   "source": [
    "from evaluate_all_datasets import evaluate_lds_difference\n",
    "\n",
    "r2, p, a, x = evaluate_lds_difference(b, model)\n",
    "print(r2)\n",
    "print(np.corrcoef(np.concatenate(a).flatten(), np.concatenate(p).flatten()))"
   ]
  },
  {
   "cell_type": "markdown",
   "metadata": {},
   "source": [
    "### Custom implementation\n",
    "#### Square-root transform"
   ]
  },
  {
   "cell_type": "code",
   "execution_count": 9,
   "metadata": {},
   "outputs": [],
   "source": [
    "from glds import glds\n",
    "from evaluate_all_datasets import evaluate_glds\n",
    "\n",
    "fit_bin = 0.06\n",
    "smooth_std = 0.06\n",
    "\n",
    "model = glds(d_obs, d_latent)\n",
    "smoothed, b = lr.smooth_spikes(s, sim_bin, fit_bin, smooth_std, sqtrans=True)\n",
    "model.initialize(b)\n",
    "\n",
    "for i in range(100):\n",
    "    model.em_step()"
   ]
  },
  {
   "cell_type": "code",
   "execution_count": 10,
   "metadata": {},
   "outputs": [
    {
     "name": "stdout",
     "output_type": "stream",
     "text": [
      "-9.049136897236286\n",
      "[[1.         0.15941402]\n",
      " [0.15941402 1.        ]]\n"
     ]
    }
   ],
   "source": [
    "from evaluate_all_datasets import evaluate_glds\n",
    "r2, p, a =  evaluate_glds(b, model)\n",
    "print(r2)\n",
    "print(np.corrcoef(np.concatenate(a).flatten(), np.concatenate(p).flatten()))"
   ]
  },
  {
   "cell_type": "markdown",
   "metadata": {},
   "source": [
    "#### Untransformed"
   ]
  },
  {
   "cell_type": "code",
   "execution_count": 13,
   "metadata": {},
   "outputs": [],
   "source": [
    "from glds import glds\n",
    "from evaluate_all_datasets import evaluate_glds\n",
    "\n",
    "fit_bin = 0.06\n",
    "smooth_std = 0.06\n",
    "\n",
    "model = glds(d_obs, d_latent)\n",
    "smoothed, b = lr.smooth_spikes(s, sim_bin, fit_bin, smooth_std)\n",
    "model.initialize(b)\n",
    "\n",
    "for i in range(100):\n",
    "    model.em_step()"
   ]
  },
  {
   "cell_type": "code",
   "execution_count": 12,
   "metadata": {},
   "outputs": [
    {
     "name": "stdout",
     "output_type": "stream",
     "text": [
      "-9.050288620660293\n",
      "[[1.         0.15941063]\n",
      " [0.15941063 1.        ]]\n"
     ]
    }
   ],
   "source": [
    "from evaluate_all_datasets import evaluate_glds\n",
    "r2, p, a =  evaluate_glds(b, model)\n",
    "print(r2)\n",
    "print(np.corrcoef(np.concatenate(a).flatten(), np.concatenate(p).flatten()))"
   ]
  }
 ],
 "metadata": {
  "kernelspec": {
   "display_name": "Python 3",
   "language": "python",
   "name": "python3"
  },
  "language_info": {
   "codemirror_mode": {
    "name": "ipython",
    "version": 3
   },
   "file_extension": ".py",
   "mimetype": "text/x-python",
   "name": "python",
   "nbconvert_exporter": "python",
   "pygments_lexer": "ipython3",
   "version": "3.6.10"
  }
 },
 "nbformat": 4,
 "nbformat_minor": 4
}
