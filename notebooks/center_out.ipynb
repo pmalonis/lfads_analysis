{
 "cells": [
  {
   "cell_type": "code",
   "execution_count": 35,
   "metadata": {},
   "outputs": [],
   "source": [
    "import sys\n",
    "sys.path.insert(0, '../src')\n",
    "sys.path.insert(0, 'src') #for running notebook from project root\n",
    "import numpy as np\n",
    "import lds_regression as lr\n",
    "import matplotlib.pyplot as plt\n",
    "from sklearn.metrics import r2_score\n",
    "import xarray as xr\n",
    "from evaluate_all_datasets import *\n",
    "%matplotlib inline\n",
    "\n",
    "center_out_path = '/home/pmalonis/lfads_analysis/data/intermediate/center_out/rockstar.nc'\n",
    "dataset = xr.open_dataset(center_out_path)\n",
    "s = center_out_gen_counts(dataset)\n",
    "\n",
    "d_latent = 20\n",
    "d_obs = s[0].shape[1]\n",
    "n_trials = len(s)\n",
    "sim_bin = np.diff(dataset.time.values)[0]\n",
    "sim_bin = np.around(sim_bin, 3)\n",
    "fit_bin = 0.02"
   ]
  },
  {
   "cell_type": "code",
   "execution_count": 36,
   "metadata": {},
   "outputs": [],
   "source": [
    "def report_values(r2, A, pca):\n",
    "    print('One step prediction r^2: %f'%r2)\n",
    "    print('Fitted transition matrix:')\n",
    "    print(A)\n",
    "    print('True matrix:')\n",
    "    print(lr.transition_mat)\n",
    "    print('\\nFitted transition matrix eigenvalues:')\n",
    "    print(np.linalg.eigvals(A))\n",
    "    print('True eigenvalues:')\n",
    "    print(np.linalg.eigvals(lr.transition_mat))\n",
    "    subspace_corr = np.corrcoef(W.flatten(), pca.components_.T.flatten())[1,0]\n",
    "    print('True and fitted subspace correlation:%f'%subspace_corr)"
   ]
  },
  {
   "cell_type": "code",
   "execution_count": 37,
   "metadata": {},
   "outputs": [],
   "source": [
    "def get_performance_single_trial(smooth_std, fit_bin):\n",
    "    smoothed, b = lr.smooth_spikes_unequal(s, sim_bin, fit_bin, smooth_std)\n",
    "    train = smoothed[:int(n_trials/2)]\n",
    "    A, pca = lr.fit_system(train, d_latent, fit_bin)\n",
    "    test = smoothed[int(n_trials/2):]\n",
    "    p,a = lr.one_step_diff_explained(test, A, pca, fit_bin)\n",
    "    r2 = np.corrcoef(np.concatenate(p).flatten(), np.concatenate(a).flatten())[1,0]**2\n",
    "    #r2 = r2_score(np.concatenate(a), np.concatenate(p))\n",
    "    return r2, A, pca\n",
    "\n",
    "#iterative search for best smoothing parameters and fit bin parameters\n",
    "\n",
    "r2 = []\n",
    "smooth_stds = np.arange(0.01, 0.1, 0.01)\n",
    "fit_bins = np.arange(0.01, 0.1, 0.01)\n",
    "for smooth_std in smooth_stds:\n",
    "    smooth_std = np.around(smooth_std, 2)\n",
    "    r2.append(get_performance_single_trial(smooth_std, fit_bin)[0])\n",
    "    \n",
    "smooth_std = smooth_stds[np.argmax(r2)]\n",
    "r2 = []\n",
    "fit_bins = np.arange(.01, .1, .01)\n",
    "for fit_bin in fit_bins:\n",
    "    fit_bin = np.around(fit_bin, 2)\n",
    "    r2.append(get_performance_single_trial(smooth_std, fit_bin)[0])\n",
    "    \n",
    "fit_bin = fit_bins[np.argmax(r2)]"
   ]
  },
  {
   "cell_type": "code",
   "execution_count": 38,
   "metadata": {},
   "outputs": [
    {
     "name": "stdout",
     "output_type": "stream",
     "text": [
      "One step prediction r^2: 0.000415\n",
      "Fitted transition matrix:\n",
      "[[-9.16735824e-01  6.27505020e-01 -9.25504937e-01  4.00461040e-02\n",
      "  -6.00834991e-01 -1.91827496e-01 -1.45148234e+00  1.15950316e+00\n",
      "   8.29859338e-01  6.61959831e-01 -6.10054398e-01 -1.09724186e+00\n",
      "  -1.75285321e-01  1.82265989e-01 -1.12997293e-01  4.12405036e-01\n",
      "   6.82579322e-01 -2.40227176e-01 -4.03299085e-01 -1.46244816e+00]\n",
      " [-1.07993121e-01 -5.78130229e-01 -2.60534432e-01  4.25447711e-01\n",
      "  -3.09675104e-01 -1.05115239e+00  8.09609172e-01 -5.99011640e-01\n",
      "   1.32392400e+00  3.76750790e-01  4.32374746e-01  3.31241182e-01\n",
      "  -7.07358300e-01  8.71107667e-01  6.40302923e-01 -5.80139967e-01\n",
      "  -9.73005200e-01  1.08982559e+00 -4.44014506e-01  1.62437026e-01]\n",
      " [ 1.04372217e+00 -9.71742600e-01  2.21321038e-01 -1.52941081e+00\n",
      "   8.32702973e-01  8.96016179e-01  6.88742686e-01 -2.28811685e+00\n",
      "   1.05503108e+00 -9.25040817e-01 -2.21412218e-01  3.74694327e-01\n",
      "   1.02822107e+00  9.50047832e-01  1.03627399e-01  1.33274475e+00\n",
      "  -1.51760432e+00  8.65349655e-01 -6.69301888e-01 -1.08446962e-01]\n",
      " [-3.99328482e-01 -2.96887392e-01  1.80351565e-01 -5.76769762e-01\n",
      "  -3.18203426e-01  3.39118140e-01 -1.32250908e+00  4.79464346e-01\n",
      "   1.22503974e+00 -9.59549867e-01 -2.78935323e-01  7.56868519e-01\n",
      "  -1.58903658e+00  8.42806608e-01  1.42778122e-01 -7.61997717e-01\n",
      "   1.24934467e+00  9.75035379e-01 -1.70459770e+00 -2.68168977e-01]\n",
      " [ 1.26777402e-01 -7.80712831e-01 -7.78014076e-01 -5.78257796e-01\n",
      "   4.42394695e-01 -7.45563999e-01 -5.43018128e-01  5.46475559e-01\n",
      "  -2.49220660e-01  1.67263904e+00  2.72439245e-02 -2.08445171e+00\n",
      "   5.11763627e-01 -1.69000726e-01 -8.31299927e-01  1.37258071e+00\n",
      "   2.73885708e-01 -3.01300893e-01  2.08950911e-01  6.32640217e-01]\n",
      " [-3.70895880e-01  1.04591906e+00  7.34368769e-01 -8.76388959e-01\n",
      "   7.66419861e-01 -1.06728240e+00 -3.03369705e-02  8.19354486e-01\n",
      "   2.40493152e-01  2.45891287e-01  3.58183325e-01  1.18946025e+00\n",
      "  -9.05956116e-01  6.18008380e-01 -5.84456361e-01  1.31851302e-01\n",
      "   1.47737406e-01  6.53304946e-02 -1.19378730e+00 -4.83928353e-01]\n",
      " [ 9.20885727e-01 -4.71416202e-02  2.06422863e-01  9.22729671e-01\n",
      "   1.19006793e+00 -4.28788728e-02 -2.80734744e-01  3.88731870e-01\n",
      "  -2.54775745e+00  6.51404843e-01 -7.70984629e-01 -1.32815470e+00\n",
      "   1.48925464e+00  3.81667393e-01 -2.91594627e-01  7.28432780e-02\n",
      "   3.42185342e-01  3.32537709e-01 -4.55456458e-01 -2.61647207e+00]\n",
      " [ 3.20187598e-01  1.51139876e+00 -1.03658976e-01 -1.61325925e-01\n",
      "  -9.21640609e-01 -1.48597181e-01 -7.43203728e-03 -1.15395659e-01\n",
      "   3.43850231e-01  7.51534860e-01  1.34812067e+00  1.42133108e+00\n",
      "   1.32227662e+00  9.48624132e-01  5.05920154e-02 -4.80987021e-01\n",
      "   3.15606545e-01  8.78652360e-01  1.39262764e-01  6.90823399e-01]\n",
      " [-4.41670089e-01 -2.12478321e-03  1.61809506e-01 -1.24500385e-01\n",
      "   1.12354301e+00 -3.15391848e-01 -4.38459762e-01 -7.40568539e-01\n",
      "   2.15240383e-02  2.62450617e-01  1.53515299e-01 -9.87594022e-01\n",
      "  -9.10741758e-01 -1.12028466e+00 -5.29516429e-01  7.23745617e-01\n",
      "   2.10902040e-01 -1.77555662e-01 -2.17357938e-01 -2.15001282e-01]\n",
      " [-9.91619671e-02 -2.11821652e-01  7.91117846e-01  2.23273954e-01\n",
      "  -1.51256733e-01 -3.29280430e-01 -2.33011654e-01 -1.03878441e+00\n",
      "  -4.06884955e-01  2.47382875e-01  1.70972149e-01  3.83543907e-01\n",
      "   7.86573163e-01 -9.47353552e-01  1.66549662e+00  7.98143858e-01\n",
      "  -9.04089010e-01 -3.96073643e-01  1.76981708e+00  5.68059605e-01]\n",
      " [-2.23303959e-01  4.80556933e-01  4.30613526e-01  5.96364883e-01\n",
      "   2.46825817e-01 -6.61591008e-01 -1.06885470e+00 -1.55114080e-01\n",
      "   2.09156876e-01 -1.72523235e-01  7.78395463e-02 -6.67039879e-01\n",
      "   1.20700335e+00 -1.85405872e+00 -1.14793267e+00 -1.03887878e+00\n",
      "   1.43986676e+00  2.51594814e-01  7.98701852e-01 -2.06476231e+00]\n",
      " [-7.03913039e-01  3.07152656e-01 -3.46276694e-01  4.85787685e-01\n",
      "   2.19842054e-01 -5.99682112e-01  3.23005816e-01 -3.21671235e-01\n",
      "  -2.55049118e-02 -9.20613834e-01 -1.06516958e+00 -5.90702738e-01\n",
      "   8.15718643e-01  1.70811483e-01 -6.35450883e-01 -8.18976854e-02\n",
      "  -4.17023895e-01 -9.69267277e-01  1.05587813e+00  6.29091683e-01]\n",
      " [ 7.16138265e-01  7.19625964e-01  2.27985377e-01  1.04084113e+00\n",
      "   1.14955188e-02 -5.67847331e-01 -1.11738276e+00 -7.90841129e-01\n",
      "   6.20314852e-02  4.01621404e-01  3.56265209e-01 -1.48426919e-01\n",
      "   1.54665718e-01 -1.04436358e-01  6.57328060e-01  8.45048859e-01\n",
      "   3.46945264e-01 -9.40509659e-02  4.42838572e-02  1.39268309e+00]\n",
      " [-2.98438839e-02 -1.10595399e+00 -8.22880976e-01 -9.51846850e-01\n",
      "  -1.81406116e-01 -7.19548186e-01 -4.99068381e-01 -1.97269054e+00\n",
      "   6.38462019e-02 -3.09232531e-02  4.90677763e-01 -6.60139966e-01\n",
      "  -3.07727858e-01  8.52156877e-01 -7.98327441e-01 -7.62912328e-01\n",
      "  -1.85080530e+00  9.95345340e-01 -5.20894632e-01 -6.32911630e-01]\n",
      " [ 3.74912838e-01 -3.14120347e-01 -5.24481466e-01  5.88072919e-01\n",
      "  -1.00404230e+00  9.69210873e-01 -5.28726385e-02  5.97019729e-01\n",
      "   4.79273554e-01 -1.02868349e+00  1.96404456e+00  1.67934520e+00\n",
      "  -6.17225855e-01  9.29817131e-01 -5.70194164e-03  5.04420519e-01\n",
      "   1.47862032e+00 -1.69782072e+00  6.18022940e-01 -1.27961707e+00]\n",
      " [-2.53998869e-01  4.26155601e-02  5.60438747e-02  4.48453745e-01\n",
      "  -4.14867256e-02 -9.63662684e-01  4.79770625e-01  1.08991696e+00\n",
      "  -8.48408676e-01 -4.10851795e-01 -7.02545545e-02  1.08105699e+00\n",
      "  -1.47678583e+00  1.00152385e-01  1.15422535e+00 -6.86166939e-01\n",
      "   8.76191583e-01  2.37478352e-01 -1.56445611e-01 -1.27550896e-01]\n",
      " [-2.41178414e-02  2.52143706e-01  9.40688507e-01 -4.21717126e-01\n",
      "  -1.15383927e+00 -1.43397304e+00 -2.27519222e-01 -3.39254235e-01\n",
      "  -2.38933271e-01  1.80134500e+00 -1.32258042e+00  1.30478924e+00\n",
      "  -1.58000926e-01  1.40696956e+00 -9.07011006e-02 -5.77228761e-01\n",
      "  -9.38328887e-01 -1.12723822e+00 -3.90642841e-01  2.12172833e+00]\n",
      " [ 1.30758118e-01 -8.44907016e-02 -1.04263536e+00  2.30948037e-01\n",
      "   6.29540389e-01 -6.65179590e-01 -1.34110511e-01 -2.60918286e-01\n",
      "  -9.00711976e-01  8.84490249e-01 -5.12872002e-01 -7.84338733e-01\n",
      "   5.38749945e-01 -1.89295958e+00  6.30059323e-01  7.43264794e-02\n",
      "   7.59960213e-01 -2.64225327e-01 -5.04553145e-01 -2.48627130e-01]\n",
      " [-2.83125871e-01  3.48760048e-01  5.38702789e-01  1.03322551e+00\n",
      "   8.12121945e-02 -1.14942144e-01  1.45468027e+00 -9.32591148e-01\n",
      "   8.73144883e-01 -6.76043570e-01  3.32592753e-01 -1.81177209e+00\n",
      "   6.08857338e-01  2.49842697e-01 -7.95730104e-01 -1.17128429e+00\n",
      "  -5.05357135e-01  5.63900836e-02 -6.26337854e-01 -4.78775764e-01]\n",
      " [ 2.45828384e-01  5.49162753e-01 -1.57685211e+00  8.97249749e-01\n",
      "  -1.89581409e-01  6.22628423e-01  9.67358160e-01 -8.12436194e-01\n",
      "  -3.65037333e-03 -6.01201923e-01  1.22490698e+00  1.51326703e-01\n",
      "  -1.55123237e+00 -3.31760538e-01  1.29271831e+00 -5.63249271e-01\n",
      "  -2.37022867e-01 -8.28212594e-02 -4.40007544e-01  2.80097550e-01]]\n",
      "True matrix:\n",
      "[[ -0.625 -20.5  ]\n",
      " [ 12.5    -0.625]]\n",
      "\n",
      "Fitted transition matrix eigenvalues:\n",
      "[-1.04702955+4.79233699j -1.04702955-4.79233699j  1.03915075+3.67804871j\n",
      "  1.03915075-3.67804871j  1.1253632 +3.03897201j  1.1253632 -3.03897201j\n",
      " -1.05043486+2.93125632j -1.05043486-2.93125632j -1.63806925+1.12267293j\n",
      " -1.63806925-1.12267293j -1.46963811+0.49216238j -1.46963811-0.49216238j\n",
      "  0.84112845+0.67500061j  0.84112845-0.67500061j  0.37506831+2.04548191j\n",
      "  0.37506831-2.04548191j -0.25137366+2.09265891j -0.25137366-2.09265891j\n",
      " -0.09873027+1.45002126j -0.09873027-1.45002126j]\n",
      "True eigenvalues:\n",
      "[-0.625+16.00781059j -0.625-16.00781059j]\n"
     ]
    },
    {
     "ename": "NameError",
     "evalue": "name 'W' is not defined",
     "output_type": "error",
     "traceback": [
      "\u001b[0;31m---------------------------------------------------------------------------\u001b[0m",
      "\u001b[0;31mNameError\u001b[0m                                 Traceback (most recent call last)",
      "\u001b[0;32m<ipython-input-38-978ec2848d99>\u001b[0m in \u001b[0;36m<module>\u001b[0;34m\u001b[0m\n\u001b[1;32m      1\u001b[0m \u001b[0mr2\u001b[0m\u001b[0;34m,\u001b[0m \u001b[0mA\u001b[0m\u001b[0;34m,\u001b[0m \u001b[0mpca\u001b[0m \u001b[0;34m=\u001b[0m \u001b[0mget_performance_single_trial\u001b[0m\u001b[0;34m(\u001b[0m\u001b[0msmooth_std\u001b[0m\u001b[0;34m,\u001b[0m \u001b[0mfit_bin\u001b[0m\u001b[0;34m)\u001b[0m\u001b[0;34m\u001b[0m\u001b[0;34m\u001b[0m\u001b[0m\n\u001b[0;32m----> 2\u001b[0;31m \u001b[0mreport_values\u001b[0m\u001b[0;34m(\u001b[0m\u001b[0mr2\u001b[0m\u001b[0;34m,\u001b[0m \u001b[0mA\u001b[0m\u001b[0;34m,\u001b[0m \u001b[0mpca\u001b[0m\u001b[0;34m)\u001b[0m\u001b[0;34m\u001b[0m\u001b[0;34m\u001b[0m\u001b[0m\n\u001b[0m",
      "\u001b[0;32m<ipython-input-36-e8c2d9d0cf4e>\u001b[0m in \u001b[0;36mreport_values\u001b[0;34m(r2, A, pca)\u001b[0m\n\u001b[1;32m      9\u001b[0m     \u001b[0mprint\u001b[0m\u001b[0;34m(\u001b[0m\u001b[0;34m'True eigenvalues:'\u001b[0m\u001b[0;34m)\u001b[0m\u001b[0;34m\u001b[0m\u001b[0;34m\u001b[0m\u001b[0m\n\u001b[1;32m     10\u001b[0m     \u001b[0mprint\u001b[0m\u001b[0;34m(\u001b[0m\u001b[0mnp\u001b[0m\u001b[0;34m.\u001b[0m\u001b[0mlinalg\u001b[0m\u001b[0;34m.\u001b[0m\u001b[0meigvals\u001b[0m\u001b[0;34m(\u001b[0m\u001b[0mlr\u001b[0m\u001b[0;34m.\u001b[0m\u001b[0mtransition_mat\u001b[0m\u001b[0;34m)\u001b[0m\u001b[0;34m)\u001b[0m\u001b[0;34m\u001b[0m\u001b[0;34m\u001b[0m\u001b[0m\n\u001b[0;32m---> 11\u001b[0;31m     \u001b[0msubspace_corr\u001b[0m \u001b[0;34m=\u001b[0m \u001b[0mnp\u001b[0m\u001b[0;34m.\u001b[0m\u001b[0mcorrcoef\u001b[0m\u001b[0;34m(\u001b[0m\u001b[0mW\u001b[0m\u001b[0;34m.\u001b[0m\u001b[0mflatten\u001b[0m\u001b[0;34m(\u001b[0m\u001b[0;34m)\u001b[0m\u001b[0;34m,\u001b[0m \u001b[0mpca\u001b[0m\u001b[0;34m.\u001b[0m\u001b[0mcomponents_\u001b[0m\u001b[0;34m.\u001b[0m\u001b[0mT\u001b[0m\u001b[0;34m.\u001b[0m\u001b[0mflatten\u001b[0m\u001b[0;34m(\u001b[0m\u001b[0;34m)\u001b[0m\u001b[0;34m)\u001b[0m\u001b[0;34m[\u001b[0m\u001b[0;36m1\u001b[0m\u001b[0;34m,\u001b[0m\u001b[0;36m0\u001b[0m\u001b[0;34m]\u001b[0m\u001b[0;34m\u001b[0m\u001b[0;34m\u001b[0m\u001b[0m\n\u001b[0m\u001b[1;32m     12\u001b[0m     \u001b[0mprint\u001b[0m\u001b[0;34m(\u001b[0m\u001b[0;34m'True and fitted subspace correlation:%f'\u001b[0m\u001b[0;34m%\u001b[0m\u001b[0msubspace_corr\u001b[0m\u001b[0;34m)\u001b[0m\u001b[0;34m\u001b[0m\u001b[0;34m\u001b[0m\u001b[0m\n",
      "\u001b[0;31mNameError\u001b[0m: name 'W' is not defined"
     ]
    }
   ],
   "source": [
    "r2, A, pca = get_performance_single_trial(smooth_std, fit_bin)\n",
    "report_values(r2, A, pca)"
   ]
  },
  {
   "cell_type": "code",
   "execution_count": null,
   "metadata": {},
   "outputs": [],
   "source": [
    "def get_performance_averaging(smooth_std, fit_bin):\n",
    "    smoothed, b = lr.smooth_spikes_unequal(s, sim_bin, fit_bin, smooth_std)\n",
    "    sm_av = [smoothed[:int(n_trials/2)].mean(0)]\n",
    "    A, pca = lr.fit_system(sm_av, d_latent, fit_bin)\n",
    "    test_av = [smoothed[int(n_trials/2):].mean(0)]\n",
    "    p,a = lr.one_step_diff_explained(test_av, A, pca, fit_bin)\n",
    "    r2 = np.corrcoef(np.concatenate(p).flatten(), np.concatenate(a).flatten())[1,0]**2\n",
    "    #r2 = r2_score(np.concatenate(p), np.concatenate(a))\n",
    "    return r2,A,pca"
   ]
  },
  {
   "cell_type": "code",
   "execution_count": null,
   "metadata": {
    "scrolled": true
   },
   "outputs": [],
   "source": [
    "#iterative search for best smoothing parameters and fit bin parameters\n",
    "\n",
    "r2 = []\n",
    "smooth_stds = np.arange(0.01, 0.1, 0.01)\n",
    "fit_bins = np.arange(0.01, 0.1, 0.01)\n",
    "for smooth_std in smooth_stds:\n",
    "    smooth_std = np.around(smooth_std, 2)\n",
    "    r2.append(get_performance_averaging(smooth_std, fit_bin)[0])\n",
    "    \n",
    "smooth_std = smooth_stds[np.argmax(r2)]\n",
    "r2 = []\n",
    "fit_bins = np.arange(.01, .1, .01)\n",
    "for fit_bin in fit_bins:\n",
    "    fit_bin = np.around(fit_bin, 2)\n",
    "    r2.append(get_performance_averaging(smooth_std, fit_bin)[0])\n",
    "    \n",
    "fit_bin = fit_bins[np.argmax(r2)]\n"
   ]
  },
  {
   "cell_type": "code",
   "execution_count": null,
   "metadata": {},
   "outputs": [],
   "source": [
    "r2, A, pca = get_performance_averaging(smooth_std, fit_bin)\n",
    "report_values(r2, A, pca)"
   ]
  },
  {
   "cell_type": "markdown",
   "metadata": {},
   "source": [
    "# Linear-Gaussian models\n",
    "\n",
    "## pylds implementation"
   ]
  },
  {
   "cell_type": "code",
   "execution_count": null,
   "metadata": {},
   "outputs": [],
   "source": [
    "from pylds.models import DefaultLDS\n",
    "\n",
    "model = DefaultLDS(100, d_latent)\n",
    "_, b = lr.smooth_spikes(s, sim_bin, fit_bin, smooth_std)\n",
    "for trial in b: model.add_data(trial)\n",
    "ll = []\n",
    "for i in range(100):\n",
    "    model.resample_model()\n",
    "    ll.append(model.log_likelihood())\n",
    "    #print(\"step %d completed\"%i)\n",
    "\n",
    "for i in range(100):\n",
    "    model.EM_step()\n",
    "    ll.append(model.log_likelihood())\n",
    "    #print(\"step %d completed\"%i)\n",
    "    \n",
    "plt.plot(ll)"
   ]
  },
  {
   "cell_type": "code",
   "execution_count": null,
   "metadata": {},
   "outputs": [],
   "source": [
    "from evaluate_all_datasets import evaluate_lds_difference\n",
    "\n",
    "r2, p, a, x = evaluate_lds_difference(b, model)\n",
    "print(r2)\n",
    "print(np.corrcoef(np.concatenate(a).flatten(), np.concatenate(p).flatten()))"
   ]
  },
  {
   "cell_type": "markdown",
   "metadata": {},
   "source": [
    "### Custom implementation\n",
    "#### Square-root transform"
   ]
  },
  {
   "cell_type": "code",
   "execution_count": null,
   "metadata": {},
   "outputs": [],
   "source": [
    "from glds import glds\n",
    "from evaluate_all_datasets import evaluate_glds\n",
    "\n",
    "fit_bin = 0.06\n",
    "smooth_std = 0.06\n",
    "\n",
    "model = glds(d_obs, d_latent)\n",
    "smoothed, b = lr.smooth_spikes(s, sim_bin, fit_bin, smooth_std, sqtrans=True)\n",
    "model.initialize(b)\n",
    "\n",
    "for i in range(100):\n",
    "    model.em_step()"
   ]
  },
  {
   "cell_type": "code",
   "execution_count": null,
   "metadata": {},
   "outputs": [],
   "source": [
    "from evaluate_all_datasets import evaluate_glds\n",
    "r2, p, a =  evaluate_glds(b, model)\n",
    "print(r2)\n",
    "print(np.corrcoef(np.concatenate(a).flatten(), np.concatenate(p).flatten()))"
   ]
  },
  {
   "cell_type": "markdown",
   "metadata": {},
   "source": [
    "#### Untransformed"
   ]
  },
  {
   "cell_type": "code",
   "execution_count": null,
   "metadata": {},
   "outputs": [],
   "source": [
    "from glds import glds\n",
    "from evaluate_all_datasets import evaluate_glds\n",
    "\n",
    "fit_bin = 0.06\n",
    "smooth_std = 0.06\n",
    "\n",
    "model = glds(d_obs, d_latent)\n",
    "smoothed, b = lr.smooth_spikes(s, sim_bin, fit_bin, smooth_std)\n",
    "model.initialize(b)\n",
    "\n",
    "for i in range(100):\n",
    "    model.em_step()"
   ]
  },
  {
   "cell_type": "code",
   "execution_count": null,
   "metadata": {},
   "outputs": [],
   "source": [
    "from evaluate_all_datasets import evaluate_glds\n",
    "r2, p, a =  evaluate_glds(b, model)\n",
    "print(r2)\n",
    "print(np.corrcoef(np.concatenate(a).flatten(), np.concatenate(p).flatten()))"
   ]
  }
 ],
 "metadata": {
  "kernelspec": {
   "display_name": "Python 3",
   "language": "python",
   "name": "python3"
  },
  "language_info": {
   "codemirror_mode": {
    "name": "ipython",
    "version": 3
   },
   "file_extension": ".py",
   "mimetype": "text/x-python",
   "name": "python",
   "nbconvert_exporter": "python",
   "pygments_lexer": "ipython3",
   "version": "3.6.10"
  }
 },
 "nbformat": 4,
 "nbformat_minor": 4
}
