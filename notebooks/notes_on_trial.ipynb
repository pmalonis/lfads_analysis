{
 "cells": [
  {
   "cell_type": "markdown",
   "metadata": {},
   "source": [
    "Some notes i'm taking for myself on LFADS controller inputs and feedback timing"
   ]
  },
  {
   "cell_type": "code",
   "execution_count": 2,
   "metadata": {},
   "outputs": [],
   "source": [
    "#loading data\n",
    "import numpy as np\n",
    "import matplotlib.pyplot as plt\n",
    "import sys\n",
    "sys.path.insert(0, '/home/pmalonis/lfads_analysis/src')\n",
    "import importlib\n",
    "import segment_submovements as ss\n",
    "import timing_analysis as ta\n",
    "import kinematics_and_input as ki\n",
    "import utils\n",
    "import pandas as pd\n",
    "import h5py\n",
    "from scipy import io\n",
    "importlib.reload(utils)\n",
    "importlib.reload(ss)\n",
    "importlib.reload(ta)\n",
    "importlib.reload(ki)\n",
    "\n",
    "trial_type = 'all'\n",
    "\n",
    "lfads_filename = \"/home/pmalonis/lfads_analysis/data/model_output/rockstar_8QTVEk_%s.h5\"%trial_type\n",
    "data_filename = \"/home/pmalonis/lfads_analysis/data/intermediate/rockstar.p\"\n",
    "inputInfo_filename = \"/home/pmalonis/lfads_analysis/data/model_output/rockstar_inputInfo.mat\"\n",
    "\n",
    "df = pd.read_pickle(data_filename)\n",
    "input_info = io.loadmat(inputInfo_filename)\n",
    "with h5py.File(lfads_filename) as h5file:\n",
    "    co = h5file['controller_outputs'].value\n",
    "    dt = utils.get_dt(h5file, input_info)\n",
    "    \n",
    "used_inds = utils.get_indices(input_info, trial_type)"
   ]
  },
  {
   "cell_type": "code",
   "execution_count": 2,
   "metadata": {},
   "outputs": [],
   "source": [
    "#plotting first trial\n",
    "importlib.reload(ss)\n",
    "importlib.reload(ta)\n",
    "ss.plot_trial(df.loc[0], co[0, :,:], dt)\n",
    "ss.plot_trial(df.loc[1], co[1, :,:], dt)\n"
   ]
  },
  {
   "cell_type": "code",
   "execution_count": 6,
   "metadata": {},
   "outputs": [],
   "source": [
    "import seaborn as sns\n",
    "sns.jointplot(co[:200,::20,0].flatten(), co[:200,::20,1].flatten(), kind='scatter')"
   ]
  },
  {
   "cell_type": "code",
   "execution_count": 7,
   "metadata": {},
   "outputs": [],
   "source": [
    "targets = df.kinematic.query('hit_target')\n",
    "post_target = []\n",
    "interval = 0.2 # interval to leave out\n",
    "trial_len = co.shape[1]*dt\n",
    "for i in range(targets.index[-1][0] + 1):\n",
    "    t_start = np.round(targets.loc[i]['hit_target'].index.values/dt).astype(int)\n",
    "    t_stop = t_start + int(interval/dt)\n",
    "    idx = np.concatenate([np.arange(stop, start, dtype=int) for start, stop in zip(t_start[1:], t_stop[:-1]) if start < trial_len/dt])\n",
    "    post_target.append(idx)"
   ]
  },
  {
   "cell_type": "code",
   "execution_count": 8,
   "metadata": {},
   "outputs": [],
   "source": [
    "input0 = np.concatenate([co[i,post_target[i],0] for i in range(200)])\n",
    "input1 = np.concatenate([co[i,post_target[i],1] for i in range(200)])\n",
    "sns.jointplot(input0[::20], input1[::20])"
   ]
  },
  {
   "cell_type": "code",
   "execution_count": 9,
   "metadata": {},
   "outputs": [],
   "source": [
    "import importlib\n",
    "import segment_submovements as ss\n",
    "importlib.reload(ss)\n",
    "\n",
    "trial_df = df.loc[0]\n",
    "ss.add_target_position_column(trial_df)"
   ]
  },
  {
   "cell_type": "code",
   "execution_count": 10,
   "metadata": {},
   "outputs": [],
   "source": [
    "import importlib\n",
    "import segment_submovements as ss\n",
    "importlib.reload(ss)\n",
    "\n",
    "trial_df = df.loc[0]\n",
    "#ss.add_target_position_column(trial_df)\n",
    "targets = trial_df.kinematic.query('hit_target')\n",
    "idx_target = np.where(trial_df.kinematic['hit_target'].values)[0]\n",
    "target_x = np.zeros(trial_df.shape[0])\n",
    "target_y = np.zeros(trial_df.shape[0])\n",
    "for i in range(targets.shape[0]-1):\n",
    "    target_x[idx_target[i]:idx_target[i+1]] = targets['x'].iloc[i]\n",
    "    target_y[idx_target[i]:idx_target[i+1]] = targets['y'].iloc[i]\n",
    "\n",
    "trial_df['target_x'] = target_x\n",
    "trial_df['target_y'] = target_y"
   ]
  },
  {
   "cell_type": "code",
   "execution_count": 3,
   "metadata": {},
   "outputs": [],
   "source": [
    "importlib.reload(ss)\n",
    "trial_idx = 0\n",
    "trial_df = df.loc[trial_idx]\n",
    "c=ss.peak_error(trial_df)\n",
    "plt.figure(figsize=(10,5))\n",
    "plt.plot(c[:3860]/2,'r')\n",
    "plt.plot(np.arange(0, 3860, 10), co[trial_idx,:,0])\n",
    "plt.plot(np.arange(0, 3860, 10), co[trial_idx,:,1])\n",
    "plt.vlines(trial_df.loc[:3.86].kinematic.query('hit_target').index.values*1000, -1, 1)"
   ]
  },
  {
   "cell_type": "code",
   "execution_count": null,
   "metadata": {},
   "outputs": [],
   "source": [
    "importlib.reload(ss)\n",
    "trial_idx = 8\n",
    "trial_df = df.loc[trial_idx]\n",
    "c=ss.peak_error(trial_df)\n",
    "plt.figure(figsize=(10,5))\n",
    "plt.plot(c[:3860]/2,'r')\n",
    "plt.plot(np.arange(0, 3860, 10), co[trial_idx,:,0])\n",
    "plt.plot(np.arange(0, 3860, 10), co[trial_idx,:,1])\n",
    "plt.vlines(trial_df.loc[:3.86].kinematic.query('hit_target').index.values*1000, -1, 1)\n",
    "\n",
    "ss.plot_submovements(trial_df)"
   ]
  },
  {
   "cell_type": "code",
   "execution_count": 13,
   "metadata": {},
   "outputs": [],
   "source": [
    "importlib.reload(ta)\n",
    "peaks = ta.get_peaks(co[:,:,:1], dt, min_height=[.4], exclude_post_target=.2, df=df)"
   ]
  },
  {
   "cell_type": "code",
   "execution_count": 3,
   "metadata": {},
   "outputs": [],
   "source": [
    "error = []\n",
    "peaks = peaks.flatten()\n",
    "for i in range(len(peaks)):\n",
    "    trial_df = df.loc[i]\n",
    "    c = ss.peak_error(df.loc[i])\n",
    "    for peak in peaks[i]:\n",
    "        c = ss.peak_error(trial_df.loc[peak-.1:peak+.1])\n",
    "        error.append(np.mean(c))\n",
    "\n",
    "import utils\n",
    "utils.polar_hist(error, 12)"
   ]
  },
  {
   "cell_type": "code",
   "execution_count": 10,
   "metadata": {},
   "outputs": [],
   "source": [
    "utils.polar_hist(np.array(error)%(2*np.pi), 12)"
   ]
  },
  {
   "cell_type": "code",
   "execution_count": null,
   "metadata": {},
   "outputs": [],
   "source": [
    "for j in range(1):\n",
    "    controls = [np.array([np.random.rand() * 3.86]) for i in range(307)]\n",
    "    error = []\n",
    "    for i in range(len(controls)):\n",
    "        trial_df = df.loc[i]\n",
    "        c = ss.peak_error(df.loc[i])\n",
    "        for control in controls[i]:\n",
    "            c = ss.peak_error(trial_df.loc[control-.1:control+.1])\n",
    "            error.append(np.mean(c))\n",
    "\n",
    "    utils.polar_hist(np.array(error)%(2*np.pi), 12)"
   ]
  },
  {
   "cell_type": "code",
   "execution_count": 14,
   "metadata": {},
   "outputs": [],
   "source": [
    "importlib.reload(ki)\n",
    "\n",
    "trial_idx = 0\n",
    "dt = 0.01\n",
    "\n"
   ]
  },
  {
   "cell_type": "code",
   "execution_count": 20,
   "metadata": {},
   "outputs": [],
   "source": [
    "importlib.reload(ki)\n",
    "from IPython.core.display import display, HTML\n",
    "i=6\n",
    "a,f = ki.animate_trial_pandas(df.loc[i],co[i,:,:].T,.01)\n",
    "HTML(a.to_jshtml())"
   ]
  },
  {
   "cell_type": "code",
   "execution_count": 4,
   "metadata": {
    "scrolled": true
   },
   "outputs": [],
   "source": [
    "import sys\n",
    "sys.path.insert(0, '/home/pmalonis/lfads_analysis/src')\n",
    "from power_law import get_curvature\n",
    "\n",
    "n_trials = df.index[-1][0] + 1\n",
    "K = []\n",
    "trial_len = co.shape[1] * dt\n",
    "for i in range(10):\n",
    "    trial_df = df.loc[i]\n",
    "    t_target = trial_df.kinematic.query('hit_target').index\n",
    "    idx = range(trial_df.shape[0])\n",
    "    t = trial_df.index[idx]\n",
    "    x = trial_df.kinematic['x'].iloc[idx].values\n",
    "    y = trial_df.kinematic['y'].iloc[idx].values\n",
    "    idx = [trial_df.index.get_loc(t, 'nearest') for t in np.arange(0, trial_len, dt)]\n",
    "    K.append(get_curvature(x,y,t)[idx]\n",
    "    \n",
    "curv = np.concatenate(K)\n",
    "np.corrcoef(curv, co[:10,:,0].flatten())[0,1]"
   ]
  },
  {
   "cell_type": "code",
   "execution_count": 5,
   "metadata": {
    "scrolled": true
   },
   "outputs": [],
   "source": [
    "for i in range(10):\n",
    "    fig, ax = plt.subplots(figsize=(15,5))\n",
    "    ax.plot(K[i])\n",
    "    ax.set_ylim([0, 5])\n",
    "    ax2 = ax.twinx()\n",
    "    ax2.plot(co[i,:,0],'r')\n",
    "    t_targets = df.loc[i].loc[:trial_len].kinematic.query('hit_target').index\n",
    "    plt.vlines(t_targets/dt,0, np.max(co[i,:,0]))"
   ]
  },
  {
   "cell_type": "code",
   "execution_count": 1,
   "metadata": {},
   "outputs": [],
   "source": [
    "import segment_submovements as ss\n",
    "importlib.reload(ss)\n",
    "\n",
    "for i in range(10): \n",
    "    ss.plot_trajectory_co(df.loc[i], co[i,:,0], dt)\n",
    "    "
   ]
  },
  {
   "cell_type": "code",
   "execution_count": 53,
   "metadata": {},
   "outputs": [],
   "source": [
    "from numpy.linalg import norm\n",
    "ntrials = co.shape[0]\n",
    "m=co[:,:,0].mean()\n",
    "nwin = 12\n",
    "K_trial = K[0]\n",
    "straigt = np.concatenate([[norm(co[0,i-nwin:i+nwin,0]-m) for i in range(nwin,ntrials-nwin) if np.all(K_trial[i-nwin:i+nwin]<.1)] for K_trial in K[:10]])\n",
    "curve = np.concatenate([[norm(co[0,i-nwin:i+nwin,0]-m) for i in range(nwin,ntrials-nwin) if np.any(K_trial[i-nwin:i+nwin]>.2)] for K_trial in K[:10]])"
   ]
  },
  {
   "cell_type": "code",
   "execution_count": 54,
   "metadata": {},
   "outputs": [],
   "source": [
    "straight = straigt[~np.isnan(straigt)]\n",
    "print(np.mean(straight))\n",
    "print(np.mean(curve))\n",
    "\n",
    "from scipy.stats import wilcoxon, mannwhitneyu\n",
    "mannwhitneyu(straight, curve)"
   ]
  },
  {
   "cell_type": "code",
   "execution_count": 58,
   "metadata": {},
   "outputs": [],
   "source": [
    "from seaborn import barplot\n",
    "\n",
    "barplot([1, 2], [np.mean(straight), np.mean(curve)])"
   ]
  },
  {
   "cell_type": "code",
   "execution_count": null,
   "metadata": {},
   "outputs": [],
   "source": []
  }
 ],
 "metadata": {
  "kernelspec": {
   "display_name": "Python 3",
   "language": "python",
   "name": "python3"
  },
  "language_info": {
   "codemirror_mode": {
    "name": "ipython",
    "version": 3
   },
   "file_extension": ".py",
   "mimetype": "text/x-python",
   "name": "python",
   "nbconvert_exporter": "python",
   "pygments_lexer": "ipython3",
   "version": "3.6.10-final"
  }
 },
 "nbformat": 4,
 "nbformat_minor": 2
}