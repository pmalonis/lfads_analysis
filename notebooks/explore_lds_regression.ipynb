{
 "cells": [
  {
   "cell_type": "code",
   "execution_count": 13,
   "metadata": {},
   "outputs": [
    {
     "name": "stderr",
     "output_type": "stream",
     "text": [
      "/home/pmalonis/miniconda3/envs/pylds/lib/python3.6/site-packages/ipykernel_launcher.py:19: FutureWarning: `rcond` parameter will change to the default of machine precision times ``max(M, N)`` where M and N are the input matrix dimensions.\n",
      "To use the future default and silence this warning we advise to pass `rcond=None`, to keep using the old, explicitly pass `rcond=-1`.\n"
     ]
    },
    {
     "data": {
      "text/plain": [
       "[<matplotlib.lines.Line2D at 0x7f0d11643d30>]"
      ]
     },
     "execution_count": 13,
     "metadata": {},
     "output_type": "execute_result"
    },
    {
     "data": {
      "image/png": "[encoded data removed]",
      "text/plain": [
       "<Figure size 432x288 with 1 Axes>"
      ]
     },
     "metadata": {
      "needs_background": "light"
     },
     "output_type": "display_data"
    }
   ],
   "source": [
    "import numpy as np\n",
    "import matplotlib.pyplot as plt\n",
    "from scipy.integrate import solve_ivp\n",
    "from scipy.interpolate import interp1d\n",
    "%matplotlib inline\n",
    "\n",
    "sigmas = np.arange(0,1,.1)\n",
    "eigen = np.zeros(len(sigmas))\n",
    "t = np.arange(0,10,.01)\n",
    "b1 = interp1d(np.arange(100.1,), np.random.randn(101),'cubic') \n",
    "b2 = interp1d(np.arange(100.1,), np.random.randn(101),'cubic') \n",
    "for i, sigma in enumerate(sigmas):\n",
    "    def f(t, x):\n",
    "        A = np.array([[-.1,1],[-2,-.1]]) + b1(t) * sigma\n",
    "        return A.dot(x)\n",
    "    \n",
    "    s=solve_ivp(f,(0,t[-1]),[7,8],t_eval=t) \n",
    "    y_prime = np.gradient(s.y, t,axis=1)\n",
    "    A,_,_,_ = np.linalg.lstsq(s.y, y_prime)\n",
    "    eigen[i] = np.linalg.eig(A)[0][0].real\n",
    "    \n",
    "plt.plot(sigmas, eigen)"
   ]
  }
 ],
 "metadata": {
  "kernelspec": {
   "display_name": "Python 3",
   "language": "python",
   "name": "python3"
  },
  "language_info": {
   "codemirror_mode": {
    "name": "ipython",
    "version": 3
   },
   "file_extension": ".py",
   "mimetype": "text/x-python",
   "name": "python",
   "nbconvert_exporter": "python",
   "pygments_lexer": "ipython3",
   "version": "3.6.10"
  }
 },
 "nbformat": 4,
 "nbformat_minor": 4
}
