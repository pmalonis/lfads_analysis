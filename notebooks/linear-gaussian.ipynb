{
 "cells": [
  {
   "cell_type": "code",
   "execution_count": 2,
   "metadata": {},
   "outputs": [],
   "source": [
    "import numpy as np\n",
    "from pylds.models import DefaultLDS\n",
    "from sklearn.metrics import r2_score\n",
    "import matplotlib.pyplot as plt\n",
    "import sys\n",
    "sys.path.insert(0, '../src')\n",
    "from lds_regression import *\n",
    "%matplotlib inline\n",
    "%load_ext autoreload\n",
    "%autoreload 2\n",
    "\n",
    "n_neurons = 100\n",
    "n_trials = 200\n",
    "fit_bin = 0.02\n",
    "smooth_std = 0.1"
   ]
  },
  {
   "cell_type": "code",
   "execution_count": 3,
   "metadata": {},
   "outputs": [],
   "source": [
    "s,r,f,W = simulate_system(n_trials,n_neurons,1)\n",
    "smoothed, b = smooth_spikes(s, sim_bin, fit_bin, smooth_std)"
   ]
  },
  {
   "cell_type": "code",
   "execution_count": 1,
   "metadata": {
    "scrolled": true
   },
   "outputs": [
    {
     "ename": "NameError",
     "evalue": "name 'plt' is not defined",
     "output_type": "error",
     "traceback": [
      "\u001b[0;31m---------------------------------------------------------------------------\u001b[0m",
      "\u001b[0;31mNameError\u001b[0m                                 Traceback (most recent call last)",
      "\u001b[0;32m<ipython-input-1-545fb063513a>\u001b[0m in \u001b[0;36m<module>\u001b[0;34m\u001b[0m\n\u001b[0;32m----> 1\u001b[0;31m \u001b[0mplt\u001b[0m\u001b[0;34m.\u001b[0m\u001b[0mfigure\u001b[0m\u001b[0;34m(\u001b[0m\u001b[0mfigsize\u001b[0m\u001b[0;34m=\u001b[0m\u001b[0;34m(\u001b[0m\u001b[0;36m12\u001b[0m\u001b[0;34m,\u001b[0m\u001b[0;36m5\u001b[0m\u001b[0;34m)\u001b[0m\u001b[0;34m)\u001b[0m\u001b[0;34m\u001b[0m\u001b[0;34m\u001b[0m\u001b[0m\n\u001b[0m\u001b[1;32m      2\u001b[0m \u001b[0mplt\u001b[0m\u001b[0;34m.\u001b[0m\u001b[0msubplot\u001b[0m\u001b[0;34m(\u001b[0m\u001b[0;36m1\u001b[0m\u001b[0;34m,\u001b[0m\u001b[0;36m2\u001b[0m\u001b[0;34m,\u001b[0m\u001b[0;36m1\u001b[0m\u001b[0;34m)\u001b[0m\u001b[0;34m\u001b[0m\u001b[0;34m\u001b[0m\u001b[0m\n\u001b[1;32m      3\u001b[0m \u001b[0mplt\u001b[0m\u001b[0;34m.\u001b[0m\u001b[0mplot\u001b[0m\u001b[0;34m(\u001b[0m\u001b[0;34m*\u001b[0m\u001b[0mf\u001b[0m\u001b[0;34m[\u001b[0m\u001b[0;36m0\u001b[0m\u001b[0;34m]\u001b[0m\u001b[0;34m.\u001b[0m\u001b[0mT\u001b[0m\u001b[0;34m)\u001b[0m\u001b[0;34m\u001b[0m\u001b[0;34m\u001b[0m\u001b[0m\n\u001b[1;32m      4\u001b[0m \u001b[0mplt\u001b[0m\u001b[0;34m.\u001b[0m\u001b[0mxlabel\u001b[0m\u001b[0;34m(\u001b[0m\u001b[0;34m'Simulated component 1'\u001b[0m\u001b[0;34m)\u001b[0m\u001b[0;34m\u001b[0m\u001b[0;34m\u001b[0m\u001b[0m\n\u001b[1;32m      5\u001b[0m \u001b[0mplt\u001b[0m\u001b[0;34m.\u001b[0m\u001b[0mylabel\u001b[0m\u001b[0;34m(\u001b[0m\u001b[0;34m'Simulated component 2'\u001b[0m\u001b[0;34m)\u001b[0m\u001b[0;34m\u001b[0m\u001b[0;34m\u001b[0m\u001b[0m\n",
      "\u001b[0;31mNameError\u001b[0m: name 'plt' is not defined"
     ]
    }
   ],
   "source": [
    "plt.figure(figsize=(12,5))\n",
    "plt.subplot(1,2,1)\n",
    "plt.plot(*f[0].T)  \n",
    "plt.xlabel('Simulated component 1')\n",
    "plt.ylabel('Simulated component 2')\n",
    "plt.subplot(1,2,2)\n",
    "t = np.arange(0, 1, .001)\n",
    "for i in range(10):\n",
    "    plt.plot(t, r[0][:,i])\n",
    "    \n",
    "plt.xlabel('Time (s)')\n",
    "plt.ylabel('Firing rate (spk/s)')"
   ]
  },
  {
   "cell_type": "code",
   "execution_count": 47,
   "metadata": {},
   "outputs": [
    {
     "name": "stdout",
     "output_type": "stream",
     "text": [
      "pca fit\n",
      "system fit\n",
      "0.08090952456633292\n",
      "0.34974122524280077\n",
      "0.956030635292232\n",
      "pca fit\n",
      "system fit\n",
      "0.10104950722191913\n",
      "0.3311741695595986\n",
      "0.956030635292232\n",
      "pca fit\n",
      "system fit\n",
      "0.12013137996757664\n",
      "0.3129371187357401\n",
      "0.956030635292232\n",
      "pca fit\n",
      "system fit\n",
      "0.13914224077287674\n",
      "0.2932776497807125\n",
      "0.956030635292232\n",
      "pca fit\n",
      "system fit\n",
      "0.15754775011721397\n",
      "0.27554039210260084\n",
      "0.956030635292232\n",
      "pca fit\n",
      "system fit\n",
      "0.17535487801346916\n",
      "0.2578812382294559\n",
      "0.956030635292232\n",
      "pca fit\n",
      "system fit\n",
      "0.1932207076730383\n",
      "0.24089391535188653\n",
      "0.956030635292232\n",
      "pca fit\n",
      "system fit\n",
      "0.2104581671915607\n",
      "0.2237183788889569\n",
      "0.956030635292232\n"
     ]
    }
   ],
   "source": [
    "for d_latent in range(2,10):\n",
    "    A, pca = fit_system(smoothed, d_latent, fit_bin)\n",
    "    p,a = one_step_variance_explained(smoothed, A, pca, new_binsize=fit_bin)\n",
    "    print(r2_score(np.concatenate(a), np.concatenate(p)))\n",
    "    print(r2_score(np.concatenate(r[:,300:680:20, :]), np.concatenate(p)))\n",
    "    print(np.corrcoef(np.concatenate(r[:,300:680:20, :]), np.concatenate(p))[1,0])"
   ]
  },
  {
   "cell_type": "code",
   "execution_count": 1,
   "metadata": {},
   "outputs": [
    {
     "ename": "NameError",
     "evalue": "name 'PCA' is not defined",
     "output_type": "error",
     "traceback": [
      "\u001b[0;31m---------------------------------------------------------------------------\u001b[0m",
      "\u001b[0;31mNameError\u001b[0m                                 Traceback (most recent call last)",
      "\u001b[0;32m<ipython-input-1-b9d90afc8e9c>\u001b[0m in \u001b[0;36m<module>\u001b[0;34m\u001b[0m\n\u001b[0;32m----> 1\u001b[0;31m \u001b[0mpca\u001b[0m \u001b[0;34m=\u001b[0m \u001b[0mPCA\u001b[0m\u001b[0;34m(\u001b[0m\u001b[0mn_components\u001b[0m\u001b[0;34m=\u001b[0m\u001b[0;36m2\u001b[0m\u001b[0;34m)\u001b[0m\u001b[0;34m\u001b[0m\u001b[0;34m\u001b[0m\u001b[0m\n\u001b[0m\u001b[1;32m      2\u001b[0m \u001b[0mpca\u001b[0m\u001b[0;34m.\u001b[0m\u001b[0mfit\u001b[0m\u001b[0;34m(\u001b[0m\u001b[0mnp\u001b[0m\u001b[0;34m.\u001b[0m\u001b[0mconcatenate\u001b[0m\u001b[0;34m(\u001b[0m\u001b[0mr\u001b[0m\u001b[0;34m[\u001b[0m\u001b[0;34m:\u001b[0m\u001b[0;36m50\u001b[0m\u001b[0;34m]\u001b[0m\u001b[0;34m)\u001b[0m\u001b[0;34m)\u001b[0m\u001b[0;34m\u001b[0m\u001b[0;34m\u001b[0m\u001b[0m\n\u001b[1;32m      3\u001b[0m \u001b[0mp\u001b[0m\u001b[0;34m,\u001b[0m\u001b[0ma\u001b[0m \u001b[0;34m=\u001b[0m \u001b[0mone_step_diff_explained\u001b[0m\u001b[0;34m(\u001b[0m\u001b[0msmoothed\u001b[0m\u001b[0;34m,\u001b[0m \u001b[0mnp\u001b[0m\u001b[0;34m.\u001b[0m\u001b[0marray\u001b[0m\u001b[0;34m(\u001b[0m\u001b[0;34m[\u001b[0m\u001b[0;34m[\u001b[0m\u001b[0;34m-\u001b[0m\u001b[0;36m0.625\u001b[0m\u001b[0;34m,\u001b[0m \u001b[0;34m-\u001b[0m\u001b[0;36m20.5\u001b[0m\u001b[0;34m]\u001b[0m\u001b[0;34m,\u001b[0m\u001b[0;34m[\u001b[0m\u001b[0;36m12.5\u001b[0m\u001b[0;34m,\u001b[0m\u001b[0;34m-\u001b[0m\u001b[0;36m0.625\u001b[0m\u001b[0;34m]\u001b[0m\u001b[0;34m]\u001b[0m\u001b[0;34m)\u001b[0m\u001b[0;34m,\u001b[0m \u001b[0mpca\u001b[0m\u001b[0;34m,\u001b[0m \u001b[0mnew_binsize\u001b[0m\u001b[0;34m=\u001b[0m\u001b[0mfit_bin\u001b[0m\u001b[0;34m)\u001b[0m\u001b[0;34m\u001b[0m\u001b[0;34m\u001b[0m\u001b[0m\n\u001b[1;32m      4\u001b[0m \u001b[0mprint\u001b[0m\u001b[0;34m(\u001b[0m\u001b[0mr2_score\u001b[0m\u001b[0;34m(\u001b[0m\u001b[0mnp\u001b[0m\u001b[0;34m.\u001b[0m\u001b[0mconcatenate\u001b[0m\u001b[0;34m(\u001b[0m\u001b[0ma\u001b[0m\u001b[0;34m)\u001b[0m\u001b[0;34m,\u001b[0m \u001b[0mnp\u001b[0m\u001b[0;34m.\u001b[0m\u001b[0mconcatenate\u001b[0m\u001b[0;34m(\u001b[0m\u001b[0mp\u001b[0m\u001b[0;34m)\u001b[0m\u001b[0;34m)\u001b[0m\u001b[0;34m)\u001b[0m\u001b[0;34m\u001b[0m\u001b[0;34m\u001b[0m\u001b[0m\n\u001b[1;32m      5\u001b[0m \u001b[0mprint\u001b[0m\u001b[0;34m(\u001b[0m\u001b[0mr2_score\u001b[0m\u001b[0;34m(\u001b[0m\u001b[0mnp\u001b[0m\u001b[0;34m.\u001b[0m\u001b[0mconcatenate\u001b[0m\u001b[0;34m(\u001b[0m\u001b[0mr\u001b[0m\u001b[0;34m[\u001b[0m\u001b[0;34m:\u001b[0m\u001b[0;34m,\u001b[0m\u001b[0;36m300\u001b[0m\u001b[0;34m:\u001b[0m\u001b[0;36m680\u001b[0m\u001b[0;34m:\u001b[0m\u001b[0;36m20\u001b[0m\u001b[0;34m,\u001b[0m \u001b[0;34m:\u001b[0m\u001b[0;34m]\u001b[0m\u001b[0;34m)\u001b[0m\u001b[0;34m,\u001b[0m \u001b[0mnp\u001b[0m\u001b[0;34m.\u001b[0m\u001b[0mconcatenate\u001b[0m\u001b[0;34m(\u001b[0m\u001b[0mp\u001b[0m\u001b[0;34m)\u001b[0m\u001b[0;34m)\u001b[0m\u001b[0;34m)\u001b[0m\u001b[0;34m\u001b[0m\u001b[0;34m\u001b[0m\u001b[0m\n",
      "\u001b[0;31mNameError\u001b[0m: name 'PCA' is not defined"
     ]
    }
   ],
   "source": [
    "pca = PCA(n_components=2)\n",
    "pca.fit(np.concatenate(r[:50]))\n",
    "p,a = one_step_diff_explained(smoothed, np.array([[-0.625, -20.5],[12.5,-0.625]]), pca, new_binsize=fit_bin)\n",
    "print(r2_score(np.concatenate(a), np.concatenate(p)))\n",
    "print(r2_score(np.concatenate(r[:,300:680:20, :]), np.concatenate(p)))\n",
    "print(np.corrcoef(np.concatenate(r[:,300:680:20, :]), np.concatenate(p))[1,0])"
   ]
  },
  {
   "cell_type": "code",
   "execution_count": null,
   "metadata": {},
   "outputs": [],
   "source": [
    "for i in range(10):\n",
    "    plt.figure()\n",
    "    plt.plot(a[1][:,i]) \n",
    "    plt.plot(p[1][:,i])\n",
    "    plt.plot(r[1][300:700:20,i])"
   ]
  },
  {
   "cell_type": "code",
   "execution_count": null,
   "metadata": {},
   "outputs": [],
   "source": [
    "from scipy.linalg import expm\n",
    "\n",
    "M = expm(A*fit_bin)\n",
    "print(pca.inverse_transform(M.dot(pca.transform(np.array([a[0][0,:]])).T).T))\n",
    "print(a[0][0,:])\n",
    "r[0,300:680:20,0].shape"
   ]
  },
  {
   "cell_type": "code",
   "execution_count": 4,
   "metadata": {
    "scrolled": true
   },
   "outputs": [
    {
     "name": "stdout",
     "output_type": "stream",
     "text": [
      "step 0 completed\n",
      "step 1 completed\n",
      "step 2 completed\n",
      "step 3 completed\n",
      "step 4 completed\n",
      "step 5 completed\n",
      "step 6 completed\n",
      "step 7 completed\n",
      "step 8 completed\n",
      "step 9 completed\n",
      "step 10 completed\n",
      "step 11 completed\n",
      "step 12 completed\n",
      "step 13 completed\n",
      "step 14 completed\n",
      "step 15 completed\n",
      "step 16 completed\n",
      "step 17 completed\n",
      "step 18 completed\n",
      "step 19 completed\n",
      "step 20 completed\n",
      "step 21 completed\n",
      "step 22 completed\n",
      "step 23 completed\n",
      "step 24 completed\n",
      "step 25 completed\n",
      "step 26 completed\n",
      "step 27 completed\n",
      "step 28 completed\n",
      "step 29 completed\n",
      "step 0 completed\n",
      "step 1 completed\n",
      "step 2 completed\n",
      "step 3 completed\n",
      "step 4 completed\n",
      "step 5 completed\n",
      "step 6 completed\n",
      "step 7 completed\n",
      "step 8 completed\n",
      "step 9 completed\n",
      "step 10 completed\n",
      "step 11 completed\n",
      "step 12 completed\n",
      "step 13 completed\n",
      "step 14 completed\n",
      "step 15 completed\n",
      "step 16 completed\n",
      "step 17 completed\n",
      "step 18 completed\n",
      "step 19 completed\n",
      "step 20 completed\n",
      "step 21 completed\n",
      "step 22 completed\n",
      "step 23 completed\n",
      "step 24 completed\n",
      "step 25 completed\n",
      "step 26 completed\n",
      "step 27 completed\n",
      "step 28 completed\n",
      "step 29 completed\n",
      "step 30 completed\n",
      "step 31 completed\n",
      "step 32 completed\n",
      "step 33 completed\n",
      "step 34 completed\n",
      "step 35 completed\n",
      "step 36 completed\n",
      "step 37 completed\n",
      "step 38 completed\n",
      "step 39 completed\n",
      "step 40 completed\n",
      "step 41 completed\n",
      "step 42 completed\n",
      "step 43 completed\n",
      "step 44 completed\n",
      "step 45 completed\n",
      "step 46 completed\n",
      "step 47 completed\n",
      "step 48 completed\n",
      "step 49 completed\n"
     ]
    }
   ],
   "source": [
    "d_latent = 6\n",
    "model = DefaultLDS(100, d_latent)\n",
    "\n",
    "for trial in b: model.add_data(trial)\n",
    "\n",
    "ll = []\n",
    "for i in range(30):\n",
    "    model.resample_model()\n",
    "    ll.append(model.log_likelihood())\n",
    "    print(\"step %d completed\"%i)\n",
    "\n",
    "for i in range(50):\n",
    "    model.EM_step()\n",
    "    ll.append(model.log_likelihood())\n",
    "    print(\"step %d completed\"%i)"
   ]
  },
  {
   "cell_type": "code",
   "execution_count": 5,
   "metadata": {},
   "outputs": [
    {
     "data": {
      "text/plain": [
       "[<matplotlib.lines.Line2D at 0x7f2e0114f668>]"
      ]
     },
     "execution_count": 5,
     "metadata": {},
     "output_type": "execute_result"
    },
    {
     "data": {
      "image/png": "[encoded data removed]",
      "text/plain": [
       "<Figure size 432x288 with 1 Axes>"
      ]
     },
     "metadata": {
      "needs_background": "light"
     },
     "output_type": "display_data"
    }
   ],
   "source": [
    "plt.plot(ll)"
   ]
  },
  {
   "cell_type": "code",
   "execution_count": 6,
   "metadata": {},
   "outputs": [
    {
     "name": "stdout",
     "output_type": "stream",
     "text": [
      "-20.15362172647255\n",
      "[[1.         0.21214487]\n",
      " [0.21214487 1.        ]]\n"
     ]
    }
   ],
   "source": [
    "from evaluate_all_datasets import evaluate_lds\n",
    "\n",
    "r2,p,a,x = evaluate_lds(b, model)\n",
    "print(r2)\n",
    "print(np.corrcoef(np.concatenate(a).flatten(),np.concatenate(p).flatten()))"
   ]
  },
  {
   "cell_type": "code",
   "execution_count": 9,
   "metadata": {},
   "outputs": [
    {
     "name": "stdout",
     "output_type": "stream",
     "text": [
      "0.9491800267524407\n",
      "0.9472060178793245\n",
      "0.24738238573920218\n"
     ]
    }
   ],
   "source": [
    "print(np.corrcoef(np.concatenate(r[:,300:680:20,:]).flatten(),np.concatenate(r[:,280:660:20,:]).flatten())[1,0])\n",
    "\n",
    "print(np.corrcoef(np.concatenate(r[:,20::20,:]).flatten(),np.concatenate(np.array(p)).flatten())[1,0])\n",
    "\n",
    "print(np.corrcoef(np.concatenate(r[:,300:700:20,:]).flatten(),np.concatenate(smoothed).flatten())[1,0])"
   ]
  },
  {
   "cell_type": "code",
   "execution_count": 10,
   "metadata": {},
   "outputs": [
    {
     "name": "stdout",
     "output_type": "stream",
     "text": [
      "-309.4714788244586\n",
      "[[1.         0.10643254]\n",
      " [0.10643254 1.        ]]\n"
     ]
    }
   ],
   "source": [
    "from evaluate_all_datasets import evaluate_lds_difference\n",
    "\n",
    "r2, p, a, x = evaluate_lds_difference(b, model)\n",
    "print(r2)\n",
    "print(np.corrcoef(np.concatenate(a).flatten(), np.concatenate(p).flatten()))"
   ]
  },
  {
   "cell_type": "code",
   "execution_count": 12,
   "metadata": {},
   "outputs": [
    {
     "data": {
      "text/plain": [
       "array([ 1.00021934+0.j        ,  0.93553054+0.31072813j,\n",
       "        0.93553054-0.31072813j,  0.26531038+0.j        ,\n",
       "       -0.24208233+0.j        , -0.05294405+0.j        ])"
      ]
     },
     "execution_count": 12,
     "metadata": {},
     "output_type": "execute_result"
    }
   ],
   "source": [
    "np.linalg.eigvals(model.A)"
   ]
  },
  {
   "cell_type": "markdown",
   "metadata": {},
   "source": [
    "### d_latent = 2"
   ]
  },
  {
   "cell_type": "code",
   "execution_count": null,
   "metadata": {
    "scrolled": true
   },
   "outputs": [],
   "source": [
    "d_latent = 2\n",
    "model = DefaultLDS(100, d_latent)\n",
    "\n",
    "for trial in b: model.add_data(trial)\n",
    "\n",
    "ll = []\n",
    "for i in range(30):\n",
    "    model.resample_model()\n",
    "    ll.append(model.log_likelihood())\n",
    "    print(\"step %d completed\"%i)\n",
    "\n",
    "for i in range(50):\n",
    "    model.EM_step()\n",
    "    ll.append(model.log_likelihood())\n",
    "    print(\"step %d completed\"%i)"
   ]
  },
  {
   "cell_type": "code",
   "execution_count": null,
   "metadata": {},
   "outputs": [],
   "source": [
    "plt.plot(ll)"
   ]
  },
  {
   "cell_type": "code",
   "execution_count": null,
   "metadata": {
    "scrolled": true
   },
   "outputs": [],
   "source": [
    "from evaluate_all_datasets import evaluate_lds\n",
    "\n",
    "r2,p,a,x = evaluate_lds(b, model)\n",
    "r2"
   ]
  },
  {
   "cell_type": "code",
   "execution_count": null,
   "metadata": {},
   "outputs": [],
   "source": [
    "print('autocorrelation of rate, lag 1 bin')\n",
    "print(np.corrcoef(np.concatenate(r[:,300:680:20,:]).flatten(),np.concatenate(r[:,280:660:20,:]).flatten())[1,0])\n",
    "\n",
    "print(np.corrcoef(np.concatenate(r[:,20:1000:20,:]).flatten(),np.concatenate(np.array(p)).flatten())[1,0])\n",
    "\n",
    "print(np.corrcoef(np.concatenate(r[:,300:700:20,:]).flatten(),np.concatenate(smoothed).flatten())[1,0])"
   ]
  },
  {
   "cell_type": "code",
   "execution_count": null,
   "metadata": {},
   "outputs": [],
   "source": [
    "np.linalg.eigvals(model.A)"
   ]
  },
  {
   "cell_type": "code",
   "execution_count": 50,
   "metadata": {},
   "outputs": [],
   "source": [
    "from scipy.linalg import expm\n",
    "true_model = DefaultLDS(100,2)\n",
    "true_model.A = expm(np.array([[-0.625, -20.5],[12.5,-0.625]])*fit_bin)\n",
    "true_model.sigma_obs = np.eye(true_model.D_obs) * 0.5\n",
    "true_model.C = W\n",
    "r2,p,a,x = evaluate_lds(b, true_model)"
   ]
  },
  {
   "cell_type": "code",
   "execution_count": 57,
   "metadata": {},
   "outputs": [
    {
     "name": "stdout",
     "output_type": "stream",
     "text": [
      "0.9491800267524407\n",
      "-0.021084753980861494\n",
      "0.24738238573920218\n",
      "0.019074753357646974\n"
     ]
    }
   ],
   "source": [
    "print(np.corrcoef(np.concatenate(r[:,300:680:20,:]).flatten(),np.concatenate(r[:,280:660:20,:]).flatten())[1,0])\n",
    "\n",
    "print(np.corrcoef(np.concatenate(r[:,20::20,:]).flatten(),np.concatenate(np.array(p)).flatten())[1,0])\n",
    "\n",
    "print(np.corrcoef(np.concatenate(r[:,300:700:20,:]).flatten(), np.concatenate(smoothed).flatten())[1,0])\n",
    "\n",
    "print(np.corrcoef(np.concatenate(b[:,1:,:]).flatten(),np.concatenate(np.array(p)).flatten())[1,0])"
   ]
  },
  {
   "cell_type": "code",
   "execution_count": 55,
   "metadata": {},
   "outputs": [
    {
     "data": {
      "text/plain": [
       "numpy.ndarray"
      ]
     },
     "execution_count": 55,
     "metadata": {},
     "output_type": "execute_result"
    }
   ],
   "source": []
  },
  {
   "cell_type": "code",
   "execution_count": 52,
   "metadata": {},
   "outputs": [
    {
     "name": "stdout",
     "output_type": "stream",
     "text": [
      "-3781.6551656092283\n",
      "[[1.         0.04154213]\n",
      " [0.04154213 1.        ]]\n"
     ]
    }
   ],
   "source": []
  },
  {
   "cell_type": "code",
   "execution_count": null,
   "metadata": {},
   "outputs": [],
   "source": []
  }
 ],
 "metadata": {
  "kernelspec": {
   "display_name": "Python 3",
   "language": "python",
   "name": "python3"
  },
  "language_info": {
   "codemirror_mode": {
    "name": "ipython",
    "version": 3
   },
   "file_extension": ".py",
   "mimetype": "text/x-python",
   "name": "python",
   "nbconvert_exporter": "python",
   "pygments_lexer": "ipython3",
   "version": "3.6.10"
  }
 },
 "nbformat": 4,
 "nbformat_minor": 4
}
