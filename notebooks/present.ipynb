{
 "cells": [
  {
   "cell_type": "markdown",
   "metadata": {},
   "source": [
    "## Outline of paper and results:\n",
    "\n",
    "**LFADS can fit dynamical system to random target pursuit task, which has no repeatable trial structure.**\n",
    "LFADS factors are highly predictive of kinematics of the random target pursuit task (pseudo-r^2 > .8), and more predictive than the population activity alone.\n",
    "\n",
    "**With L1 penalty on controller network, inputs to LFADS generator inputs can be modeled as transient with no loss of predictive power.**\n",
    "\n",
    "**Transient inputs following target presentation predict target position.** It is more predictive of the difference vector between the hand and the target, than the absolute position of the target relative to the shoulder (pseudo r^2 of ~.63 for the former, ~.48 for the latter). The transient inputs are more predictive of the target than the equivalent number of PCs of the smoothed population activity (r^2 of .63 to r^2 of .53).\n",
    "\n",
    "TODO:\n",
    "1. See if the relationship between post-target transients and kinematics can be described in a tractable way\n",
    "2. Determine relationship between controller signal and kinematics across the whole trial, including reach correction\n",
    "3. Replicate in second animal\n",
    "4. Run LFADS on playback experiment to determine if the analysis can elucidate difference in generation of activity between two conditions"
   ]
  },
  {
   "cell_type": "code",
   "execution_count": null,
   "metadata": {},
   "outputs": [],
   "source": [
    "def classify_target(idx, tp):\n",
    "    '''classify row of target_peak dataframe based on whether \n",
    "    there is a peak in input1, input 2, both, or neither'''\n",
    "\n",
    "    p0 = ~np.isnan(tp.loc[idx].latency_0)\n",
    "    p1 = ~np.isnan(tp.loc[idx].latency_1)\n",
    "    if p0 and not p1:\n",
    "        return 'only input 1'\n",
    "    elif not p0 and p1:\n",
    "        return 'only input 2'\n",
    "    elif p0 and p1:\n",
    "        return 'both'\n",
    "    else:\n",
    "        return 'neither'\n",
    "\n",
    "def plot_peak_barplot(peak_dfs, peak_thresholds, cp=None):\n",
    "    counts = [tp.groupby(lambda idx: classify_target(idx, tp)).size().rename(th) \n",
    "                for tp,th in zip(peak_dfs, peak_thresholds)]\n",
    "    counts_df = pd.concat(counts, names=peak_thresholds, axis=1)\n",
    "    if cp is None:\n",
    "        cp=sns.color_palette()[4:]\n",
    "    #for ordering columns or renam\n",
    "    columns = ['only input 1', 'only input 2', 'both', 'neither'] \n",
    "    columns = [c for c in columns if c in counts_df.index]\n",
    "    ax = counts_df.T[columns].plot(kind='barh', stacked=True, color=cp)\n",
    "    ax.set_xlabel('Target count')\n",
    "    ax.set_ylabel('Threshold')\n",
    "    return ax\n",
    "\n",
    "plot_peak_barplot(peak_dfs, peak_thresholds)\n",
    "# cp=sns.color_palette()[4:]\n",
    "# for i,b in enumerate(bars.T):\n",
    "#     edge = np.sum(bars[:,:i], axis=1) #left edge of bar plot\n",
    "#     ax = sns.barplot(y=peak_thresholds, x=b, left=edge, color=cp[i], orient='h')\n",
    "    #ax.text(x=edge + b/2, y=peak_thresh, s=b, ha='center')"
   ]
  },
  {
   "cell_type": "code",
   "execution_count": null,
   "metadata": {},
   "outputs": [],
   "source": []
  }
 ],
 "metadata": {
  "kernelspec": {
   "display_name": "Python 3",
   "language": "python",
   "name": "python3"
  },
  "language_info": {
   "codemirror_mode": {
    "name": "ipython",
    "version": 3
   },
   "file_extension": ".py",
   "mimetype": "text/x-python",
   "name": "python",
   "nbconvert_exporter": "python",
   "pygments_lexer": "ipython3",
   "version": "3.6.10"
  }
 },
 "nbformat": 4,
 "nbformat_minor": 4
}
