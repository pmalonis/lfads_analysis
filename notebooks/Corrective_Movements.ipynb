{
 "cells": [
  {
   "cell_type": "markdown",
   "metadata": {},
   "source": [
    "This notebook analyizes corrective submovements made during the random target pursuit task in order to develop a good way for identifying them, in order to ultimately relate the submovements to the LFADS inputs."
   ]
  },
  {
   "cell_type": "code",
   "execution_count": 1,
   "metadata": {},
   "outputs": [],
   "source": [
    "# Imports and constants\n",
    "import numpy as np\n",
    "import pandas as pd\n",
    "from scipy.io import loadmat\n",
    "import matplotlib.pyplot as plt\n",
    "import matplotlib as mpl\n",
    "import sys\n",
    "sys.path.insert(0, '../src')\n",
    "sys.path.insert(0, 'src')\n",
    "from utils import get_indices\n",
    "import kinematics_and_input as ki\n",
    "import h5py\n",
    "import importlib\n",
    "importlib.reload(sys.modules['kinematics_and_input'])\n",
    "from IPython.display import HTML, display\n",
    "\n",
    "trial_type = 'all'\n",
    "\n",
    "lfads_filename = \"/home/pmalonis/lfads_analysis/data/model_output/rockstar_8QTVEk_%s.h5\"%trial_type\n",
    "data_filename = \"/home/pmalonis/lfads_analysis/data/intermediate/rockstar.p\"\n",
    "inputInfo_filename = \"/home/pmalonis/lfads_analysis/data/model_output/rockstar_inputInfo.mat\"\n",
    "raw_filename = \"/home/pmalonis/lfads_analysis/data/raw/rockstar.mat\""
   ]
  },
  {
   "cell_type": "code",
   "execution_count": 2,
   "metadata": {},
   "outputs": [],
   "source": [
    "#Loading data\n",
    "df = pd.read_pickle(data_filename)\n",
    "mat_data = loadmat(raw_filename)\n",
    "input_info = loadmat(inputInfo_filename)\n",
    "used_inds = get_indices(input_info, trial_type)"
   ]
  },
  {
   "cell_type": "code",
   "execution_count": 10,
   "metadata": {},
   "outputs": [],
   "source": [
    "%%capture\n",
    "%matplotlib inline\n",
    "mpl.rcParams['animation.embed_limit'] = 100\n",
    "import kinematics_and_input as ki\n",
    "importlib.reload(ki)\n",
    "playback_ratio = .2\n",
    "read_fps = 200\n",
    "#Creating trial animation\n",
    "with h5py.File(lfads_filename) as h5file:\n",
    "    trial_len_ms = input_info['seq_timeVector'][-1][-1]\n",
    "    dt = np.round(trial_len_ms/h5file['controller_outputs'].shape[1])/1000 \n",
    "    #Converting trial length and round to nearest dt\n",
    "    trial_len = trial_len_ms/1000\n",
    "    trial_len = np.floor(trial_len/dt)*dt\n",
    "    lfads_t = np.arange(0, trial_len, dt)\n",
    "    for i, trial_idx in enumerate(used_inds[20:21]):\n",
    "        data_t = df.loc[trial_idx].loc[:trial_len].index.values\n",
    "        x = df.loc[trial_idx].loc[:trial_len].kinematic['x'].values\n",
    "        y = df.loc[trial_idx].loc[:trial_len].kinematic['y'].values\n",
    "        x_vel = df.loc[trial_idx].loc[:trial_len].kinematic['x_vel'].values\n",
    "        y_vel = df.loc[trial_idx].loc[:trial_len].kinematic['y_vel'].values\n",
    "        speed = np.sqrt(x_vel**2 + y_vel**2)\n",
    "        title = plt.title('trial%03d'%trial_idx)\n",
    "        #scroll_data = np.reshape(speed, (1, len(speed)))\n",
    "        scroll_data = h5file['controller_outputs'][i,:,:].T\n",
    "        anim,frames = ki.animate_trial(mat_data, trial_idx, scroll_data, 0.01, title, fps=read_fps)\n",
    "\n",
    "display(HTML(anim.to_jshtml(fps=read_fps*playback_ratio)))"
   ]
  },
  {
   "cell_type": "code",
   "execution_count": 9,
   "metadata": {},
   "outputs": [],
   "source": [
    "display(HTML(anim.to_jshtml(fps=read_fps*playback_ratio)))"
   ]
  },
  {
   "cell_type": "code",
   "execution_count": 7,
   "metadata": {},
   "outputs": [],
   "source": [
    "from scipy.signal import find_peaks, butter, sosfilt\n",
    "\n",
    "peaks,_= find_peaks(-speed)\n",
    "plt.plot(speed)\n",
    "plt.plot(peaks, speed[peaks], 'x')\n",
    "plt.figure()\n",
    "plt.plot(x)\n",
    "plt.plot(y)"
   ]
  },
  {
   "cell_type": "code",
   "execution_count": null,
   "metadata": {},
   "outputs": [],
   "source": [
    "sos = butter(3, 20, fs=1000, output='sos')\n",
    "x_vel_filt = sosfilt(sos, x_vel)\n",
    "y_vel_filt = sosfilt(sos, y_vel)\n",
    "filtered_speed = np.sqrt(x_vel_filt**2 + y_vel_filt**2)\n",
    "filtered_speed = sosfilt(sos, speed)\n",
    "fp, _ = find_peaks(-filtered_speed, width=50)\n",
    "plt.plot(filtered_speed)\n",
    "plt.plot(fp, filtered_speed[fp], 'x')"
   ]
  },
  {
   "cell_type": "code",
   "execution_count": null,
   "metadata": {},
   "outputs": [],
   "source": [
    "df.loc[trial_idx]"
   ]
  },
  {
   "cell_type": "code",
   "execution_count": null,
   "metadata": {},
   "outputs": [],
   "source": [
    "print(len(frames))\n",
    "print(read_fps*playback_ratio)"
   ]
  },
  {
   "cell_type": "code",
   "execution_count": null,
   "metadata": {},
   "outputs": [],
   "source": [
    "966/250"
   ]
  },
  {
   "cell_type": "code",
   "execution_count": 9,
   "metadata": {},
   "outputs": [],
   "source": [
    "anims"
   ]
  },
  {
   "cell_type": "code",
   "execution_count": 14,
   "metadata": {},
   "outputs": [],
   "source": [
    "trial_idx"
   ]
  },
  {
   "cell_type": "code",
   "execution_count": null,
   "metadata": {},
   "outputs": [],
   "source": []
  }
 ],
 "metadata": {
  "kernelspec": {
   "display_name": "Python 3",
   "language": "python",
   "name": "python3"
  },
  "language_info": {
   "codemirror_mode": {
    "name": "ipython",
    "version": 3
   },
   "file_extension": ".py",
   "mimetype": "text/x-python",
   "name": "python",
   "nbconvert_exporter": "python",
   "pygments_lexer": "ipython3",
   "version": "3.6.10"
  }
 },
 "nbformat": 4,
 "nbformat_minor": 4
}